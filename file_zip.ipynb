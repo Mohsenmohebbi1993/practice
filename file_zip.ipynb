{
 "cells": [
  {
   "cell_type": "markdown",
   "metadata": {},
   "source": [
    "# import packages\n",
    "\n",
    "numpy  and   pandas"
   ]
  },
  {
   "cell_type": "code",
   "execution_count": 1,
   "metadata": {},
   "outputs": [],
   "source": [
    "import numpy as np\n",
    "import pandas as pd\n",
    "import pyarrow.parquet as pa\n",
    "import zipfile\n",
    "import glob\n",
    "import os"
   ]
  },
  {
   "cell_type": "code",
   "execution_count": 16,
   "metadata": {},
   "outputs": [
    {
     "data": {
      "text/html": [
       "<div>\n",
       "<style scoped>\n",
       "    .dataframe tbody tr th:only-of-type {\n",
       "        vertical-align: middle;\n",
       "    }\n",
       "\n",
       "    .dataframe tbody tr th {\n",
       "        vertical-align: top;\n",
       "    }\n",
       "\n",
       "    .dataframe thead th {\n",
       "        text-align: right;\n",
       "    }\n",
       "</style>\n",
       "<table border=\"1\" class=\"dataframe\">\n",
       "  <thead>\n",
       "    <tr style=\"text-align: right;\">\n",
       "      <th></th>\n",
       "      <th>match_id</th>\n",
       "      <th>name</th>\n",
       "      <th>slug</th>\n",
       "      <th>gender</th>\n",
       "      <th>user_count</th>\n",
       "      <th>residence</th>\n",
       "      <th>birthplace</th>\n",
       "      <th>height</th>\n",
       "      <th>weight</th>\n",
       "      <th>plays</th>\n",
       "      <th>turned_pro</th>\n",
       "      <th>current_prize</th>\n",
       "      <th>total_prize</th>\n",
       "      <th>player_id</th>\n",
       "      <th>current_rank</th>\n",
       "      <th>name_code</th>\n",
       "      <th>country</th>\n",
       "      <th>full_name</th>\n",
       "    </tr>\n",
       "  </thead>\n",
       "  <tbody>\n",
       "    <tr>\n",
       "      <th>0</th>\n",
       "      <td>12260075</td>\n",
       "      <td>Lehečka J.</td>\n",
       "      <td>lehecka-jiri</td>\n",
       "      <td>M</td>\n",
       "      <td>6858</td>\n",
       "      <td>Knezmost, Czech Republic</td>\n",
       "      <td>Mlada Boleslav, Czechia</td>\n",
       "      <td>1.85</td>\n",
       "      <td>80</td>\n",
       "      <td>right-handed</td>\n",
       "      <td>None</td>\n",
       "      <td>763346</td>\n",
       "      <td>2988783</td>\n",
       "      <td>254742</td>\n",
       "      <td>24</td>\n",
       "      <td>LEH</td>\n",
       "      <td>Czech Republic</td>\n",
       "      <td>Lehečka, Jiří</td>\n",
       "    </tr>\n",
       "  </tbody>\n",
       "</table>\n",
       "</div>"
      ],
      "text/plain": [
       "   match_id        name          slug gender  user_count  \\\n",
       "0  12260075  Lehečka J.  lehecka-jiri      M        6858   \n",
       "\n",
       "                  residence               birthplace  height  weight  \\\n",
       "0  Knezmost, Czech Republic  Mlada Boleslav, Czechia    1.85      80   \n",
       "\n",
       "          plays turned_pro  current_prize  total_prize  player_id  \\\n",
       "0  right-handed       None         763346      2988783     254742   \n",
       "\n",
       "   current_rank name_code         country      full_name  \n",
       "0            24       LEH  Czech Republic  Lehečka, Jiří  "
      ]
     },
     "execution_count": 16,
     "metadata": {},
     "output_type": "execute_result"
    }
   ],
   "source": [
    "pd.read_parquet('away_team_12260075.parquet', engine='pyarrow')"
   ]
  },
  {
   "cell_type": "code",
   "execution_count": 46,
   "metadata": {},
   "outputs": [
    {
     "data": {
      "text/html": [
       "<div>\n",
       "<style scoped>\n",
       "    .dataframe tbody tr th:only-of-type {\n",
       "        vertical-align: middle;\n",
       "    }\n",
       "\n",
       "    .dataframe tbody tr th {\n",
       "        vertical-align: top;\n",
       "    }\n",
       "\n",
       "    .dataframe thead th {\n",
       "        text-align: right;\n",
       "    }\n",
       "</style>\n",
       "<table border=\"1\" class=\"dataframe\">\n",
       "  <thead>\n",
       "    <tr style=\"text-align: right;\">\n",
       "      <th></th>\n",
       "      <th>match_id</th>\n",
       "      <th>name</th>\n",
       "      <th>slug</th>\n",
       "      <th>gender</th>\n",
       "      <th>user_count</th>\n",
       "      <th>residence</th>\n",
       "      <th>birthplace</th>\n",
       "      <th>height</th>\n",
       "      <th>weight</th>\n",
       "      <th>plays</th>\n",
       "      <th>turned_pro</th>\n",
       "      <th>current_prize</th>\n",
       "      <th>total_prize</th>\n",
       "      <th>player_id</th>\n",
       "      <th>current_rank</th>\n",
       "      <th>name_code</th>\n",
       "      <th>country</th>\n",
       "      <th>full_name</th>\n",
       "    </tr>\n",
       "  </thead>\n",
       "  <tbody>\n",
       "    <tr>\n",
       "      <th>0</th>\n",
       "      <td>12260075</td>\n",
       "      <td>Lehečka J.</td>\n",
       "      <td>lehecka-jiri</td>\n",
       "      <td>M</td>\n",
       "      <td>6858</td>\n",
       "      <td>Knezmost, Czech Republic</td>\n",
       "      <td>Mlada Boleslav, Czechia</td>\n",
       "      <td>1.85</td>\n",
       "      <td>80</td>\n",
       "      <td>right-handed</td>\n",
       "      <td>None</td>\n",
       "      <td>763346</td>\n",
       "      <td>2988783</td>\n",
       "      <td>254742</td>\n",
       "      <td>24</td>\n",
       "      <td>LEH</td>\n",
       "      <td>Czech Republic</td>\n",
       "      <td>Lehečka, Jiří</td>\n",
       "    </tr>\n",
       "  </tbody>\n",
       "</table>\n",
       "</div>"
      ],
      "text/plain": [
       "   match_id        name          slug gender  user_count  \\\n",
       "0  12260075  Lehečka J.  lehecka-jiri      M        6858   \n",
       "\n",
       "                  residence               birthplace  height  weight  \\\n",
       "0  Knezmost, Czech Republic  Mlada Boleslav, Czechia    1.85      80   \n",
       "\n",
       "          plays turned_pro  current_prize  total_prize  player_id  \\\n",
       "0  right-handed       None         763346      2988783     254742   \n",
       "\n",
       "   current_rank name_code         country      full_name  \n",
       "0            24       LEH  Czech Republic  Lehečka, Jiří  "
      ]
     },
     "execution_count": 46,
     "metadata": {},
     "output_type": "execute_result"
    }
   ],
   "source": [
    "import zipfile\n",
    "a = 20240501\n",
    "b = 12260075\n",
    "with zipfile.ZipFile(f'{a}.zip', 'r') as zip_ref:\n",
    "    zip_ref.extractall(f\"{a}\")\n",
    "pd.read_parquet(f'{a}/data/raw/raw_match_parquet/away_team_{b}.parquet', engine='pyarrow')"
   ]
  },
  {
   "cell_type": "code",
   "execution_count": 45,
   "metadata": {},
   "outputs": [
    {
     "data": {
      "text/html": [
       "<div>\n",
       "<style scoped>\n",
       "    .dataframe tbody tr th:only-of-type {\n",
       "        vertical-align: middle;\n",
       "    }\n",
       "\n",
       "    .dataframe tbody tr th {\n",
       "        vertical-align: top;\n",
       "    }\n",
       "\n",
       "    .dataframe thead th {\n",
       "        text-align: right;\n",
       "    }\n",
       "</style>\n",
       "<table border=\"1\" class=\"dataframe\">\n",
       "  <thead>\n",
       "    <tr style=\"text-align: right;\">\n",
       "      <th></th>\n",
       "      <th>match_id</th>\n",
       "      <th>name</th>\n",
       "      <th>slug</th>\n",
       "      <th>gender</th>\n",
       "      <th>user_count</th>\n",
       "      <th>residence</th>\n",
       "      <th>birthplace</th>\n",
       "      <th>height</th>\n",
       "      <th>weight</th>\n",
       "      <th>plays</th>\n",
       "      <th>turned_pro</th>\n",
       "      <th>current_prize</th>\n",
       "      <th>total_prize</th>\n",
       "      <th>player_id</th>\n",
       "      <th>current_rank</th>\n",
       "      <th>name_code</th>\n",
       "      <th>country</th>\n",
       "      <th>full_name</th>\n",
       "    </tr>\n",
       "  </thead>\n",
       "  <tbody>\n",
       "    <tr>\n",
       "      <th>0</th>\n",
       "      <td>12260075</td>\n",
       "      <td>Lehečka J.</td>\n",
       "      <td>lehecka-jiri</td>\n",
       "      <td>M</td>\n",
       "      <td>6858</td>\n",
       "      <td>Knezmost, Czech Republic</td>\n",
       "      <td>Mlada Boleslav, Czechia</td>\n",
       "      <td>1.85</td>\n",
       "      <td>80</td>\n",
       "      <td>right-handed</td>\n",
       "      <td>None</td>\n",
       "      <td>763346</td>\n",
       "      <td>2988783</td>\n",
       "      <td>254742</td>\n",
       "      <td>24</td>\n",
       "      <td>LEH</td>\n",
       "      <td>Czech Republic</td>\n",
       "      <td>Lehečka, Jiří</td>\n",
       "    </tr>\n",
       "  </tbody>\n",
       "</table>\n",
       "</div>"
      ],
      "text/plain": [
       "   match_id        name          slug gender  user_count  \\\n",
       "0  12260075  Lehečka J.  lehecka-jiri      M        6858   \n",
       "\n",
       "                  residence               birthplace  height  weight  \\\n",
       "0  Knezmost, Czech Republic  Mlada Boleslav, Czechia    1.85      80   \n",
       "\n",
       "          plays turned_pro  current_prize  total_prize  player_id  \\\n",
       "0  right-handed       None         763346      2988783     254742   \n",
       "\n",
       "   current_rank name_code         country      full_name  \n",
       "0            24       LEH  Czech Republic  Lehečka, Jiří  "
      ]
     },
     "execution_count": 45,
     "metadata": {},
     "output_type": "execute_result"
    }
   ],
   "source": [
    "a = 20240501\n",
    "b = 12260075\n",
    "pd.read_parquet(f'{a}/data/raw/raw_match_parquet/away_team_{b}.parquet', engine='pyarrow')"
   ]
  },
  {
   "cell_type": "code",
   "execution_count": null,
   "metadata": {},
   "outputs": [],
   "source": [
    "a[1], a[2]= "
   ]
  },
  {
   "cell_type": "code",
   "execution_count": 17,
   "metadata": {},
   "outputs": [
    {
     "data": {
      "text/plain": [
       "['.git',\n",
       " '20240501.zip',\n",
       " '20240502.zip',\n",
       " '20240503.zip',\n",
       " '20240504.zip',\n",
       " 'away_team_12260075.parquet',\n",
       " 'file_zip.ipynb',\n",
       " 'practice']"
      ]
     },
     "execution_count": 17,
     "metadata": {},
     "output_type": "execute_result"
    }
   ],
   "source": [
    "path = \"C:/Users/user/Desktop/python/practice\"\n",
    "\n",
    "dris = os.listdir(path)\n",
    "\n",
    "dris"
   ]
  },
  {
   "cell_type": "code",
   "execution_count": 42,
   "metadata": {},
   "outputs": [
    {
     "name": "stdout",
     "output_type": "stream",
     "text": [
      "['20240501.zip', '20240502.zip', '20240503.zip', '20240504.zip']\n",
      "0    20240501\n",
      "1    20240502\n",
      "2    20240503\n",
      "3    20240504\n",
      "dtype: object\n"
     ]
    }
   ],
   "source": [
    "a=dris[1:5]\n",
    "b=a\n",
    "b=pd.Series(a)\n",
    "b=b.replace(to_replace=r'.zip', value='', regex=True)\n",
    "print(a)\n",
    "print(b)"
   ]
  },
  {
   "cell_type": "code",
   "execution_count": 22,
   "metadata": {},
   "outputs": [
    {
     "name": "stdout",
     "output_type": "stream",
     "text": [
      "20240501.zip\n",
      "20240502.zip\n",
      "20240503.zip\n",
      "20240504.zip\n"
     ]
    }
   ],
   "source": [
    "a=dris[1:5]\n",
    "\n",
    "for i in a:\n",
    "     print(i)\n",
    "     with zipfile.ZipFile(f'{a[i]}', 'r') as zip_ref:\n",
    "          zip_ref.extractall(f\"{b[i]}\")\n",
    "     j+=1\n"
   ]
  },
  {
   "cell_type": "code",
   "execution_count": 27,
   "metadata": {},
   "outputs": [],
   "source": [
    "folder = 'D:/DATA_Analayses/Project/TennisGame/data/raw/202405'\n",
    "extension = \".zip\"\n",
    "\n",
    "os.chdir(folder) \n",
    "\n",
    "for item in os.listdir(folder): \n",
    "    if item.endswith(extension): \n",
    "        file_name = os.path.abspath(item) \n",
    "        zip_ref = zipfile.ZipFile(item) \n",
    "        zip_ref.extractall(folder)"
   ]
  },
  {
   "cell_type": "code",
   "execution_count": 30,
   "metadata": {},
   "outputs": [
    {
     "data": {
      "text/html": [
       "<div>\n",
       "<style scoped>\n",
       "    .dataframe tbody tr th:only-of-type {\n",
       "        vertical-align: middle;\n",
       "    }\n",
       "\n",
       "    .dataframe tbody tr th {\n",
       "        vertical-align: top;\n",
       "    }\n",
       "\n",
       "    .dataframe thead th {\n",
       "        text-align: right;\n",
       "    }\n",
       "</style>\n",
       "<table border=\"1\" class=\"dataframe\">\n",
       "  <thead>\n",
       "    <tr style=\"text-align: right;\">\n",
       "      <th></th>\n",
       "      <th>match_id</th>\n",
       "      <th>first_to_serve</th>\n",
       "      <th>home_team_seed</th>\n",
       "      <th>away_team_seed</th>\n",
       "      <th>custom_id</th>\n",
       "      <th>winner_code</th>\n",
       "      <th>default_period_count</th>\n",
       "      <th>start_datetime</th>\n",
       "      <th>match_slug</th>\n",
       "      <th>final_result_only</th>\n",
       "    </tr>\n",
       "  </thead>\n",
       "  <tbody>\n",
       "    <tr>\n",
       "      <th>0</th>\n",
       "      <td>12346542</td>\n",
       "      <td>None</td>\n",
       "      <td>None</td>\n",
       "      <td>None</td>\n",
       "      <td>jlIjsvBrd</td>\n",
       "      <td>1</td>\n",
       "      <td>3</td>\n",
       "      <td>1716183900</td>\n",
       "      <td>finkelstein-mares</td>\n",
       "      <td>True</td>\n",
       "    </tr>\n",
       "  </tbody>\n",
       "</table>\n",
       "</div>"
      ],
      "text/plain": [
       "   match_id first_to_serve home_team_seed away_team_seed  custom_id  \\\n",
       "0  12346542           None           None           None  jlIjsvBrd   \n",
       "\n",
       "   winner_code  default_period_count  start_datetime         match_slug  \\\n",
       "0            1                     3      1716183900  finkelstein-mares   \n",
       "\n",
       "   final_result_only  \n",
       "0               True  "
      ]
     },
     "execution_count": 30,
     "metadata": {},
     "output_type": "execute_result"
    }
   ],
   "source": [
    "pd.read_parquet(\"D:/DATA_Analayses/Project/TennisGame/data/raw/202405/data/raw/raw_match_parquet/event_12346542.parquet\", engine='pyarrow')"
   ]
  },
  {
   "cell_type": "code",
   "execution_count": 8,
   "metadata": {},
   "outputs": [
    {
     "data": {
      "text/plain": [
       "0       away_team_12260075\n",
       "1       away_team_12260076\n",
       "2       away_team_12260077\n",
       "3       away_team_12260078\n",
       "4       away_team_12260080\n",
       "               ...        \n",
       "5735        venue_12298541\n",
       "5736        venue_12298630\n",
       "5737        venue_12298718\n",
       "5738        venue_12298767\n",
       "5739        venue_12298791\n",
       "Length: 5740, dtype: object"
      ]
     },
     "execution_count": 8,
     "metadata": {},
     "output_type": "execute_result"
    }
   ],
   "source": [
    "path = \"C:/Users/user/Desktop/python/practice/1/data/raw/raw_match_parquet\"\n",
    "dris = os.listdir(path)\n",
    "series_list = pd.Series(dris).replace(r'.parquet', value='', regex=True)\n",
    "series_list\n"
   ]
  }
 ],
 "metadata": {
  "kernelspec": {
   "display_name": "practice",
   "language": "python",
   "name": "python3"
  },
  "language_info": {
   "codemirror_mode": {
    "name": "ipython",
    "version": 3
   },
   "file_extension": ".py",
   "mimetype": "text/x-python",
   "name": "python",
   "nbconvert_exporter": "python",
   "pygments_lexer": "ipython3",
   "version": "3.12.3"
  }
 },
 "nbformat": 4,
 "nbformat_minor": 2
}

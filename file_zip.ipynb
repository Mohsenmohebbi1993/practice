{
 "cells": [
  {
   "cell_type": "markdown",
   "metadata": {},
   "source": [
    "# import packages\n",
    "\n",
    "numpy  and   pandas"
   ]
  },
  {
   "cell_type": "code",
   "execution_count": 20,
   "metadata": {},
   "outputs": [],
   "source": [
    "import numpy as np\n",
    "import pandas as pd\n",
    "import pyarrow.parquet as pa\n",
    "import zipfile"
   ]
  },
  {
   "cell_type": "code",
   "execution_count": 16,
   "metadata": {},
   "outputs": [
    {
     "data": {
      "text/html": [
       "<div>\n",
       "<style scoped>\n",
       "    .dataframe tbody tr th:only-of-type {\n",
       "        vertical-align: middle;\n",
       "    }\n",
       "\n",
       "    .dataframe tbody tr th {\n",
       "        vertical-align: top;\n",
       "    }\n",
       "\n",
       "    .dataframe thead th {\n",
       "        text-align: right;\n",
       "    }\n",
       "</style>\n",
       "<table border=\"1\" class=\"dataframe\">\n",
       "  <thead>\n",
       "    <tr style=\"text-align: right;\">\n",
       "      <th></th>\n",
       "      <th>match_id</th>\n",
       "      <th>name</th>\n",
       "      <th>slug</th>\n",
       "      <th>gender</th>\n",
       "      <th>user_count</th>\n",
       "      <th>residence</th>\n",
       "      <th>birthplace</th>\n",
       "      <th>height</th>\n",
       "      <th>weight</th>\n",
       "      <th>plays</th>\n",
       "      <th>turned_pro</th>\n",
       "      <th>current_prize</th>\n",
       "      <th>total_prize</th>\n",
       "      <th>player_id</th>\n",
       "      <th>current_rank</th>\n",
       "      <th>name_code</th>\n",
       "      <th>country</th>\n",
       "      <th>full_name</th>\n",
       "    </tr>\n",
       "  </thead>\n",
       "  <tbody>\n",
       "    <tr>\n",
       "      <th>0</th>\n",
       "      <td>12260075</td>\n",
       "      <td>Lehečka J.</td>\n",
       "      <td>lehecka-jiri</td>\n",
       "      <td>M</td>\n",
       "      <td>6858</td>\n",
       "      <td>Knezmost, Czech Republic</td>\n",
       "      <td>Mlada Boleslav, Czechia</td>\n",
       "      <td>1.85</td>\n",
       "      <td>80</td>\n",
       "      <td>right-handed</td>\n",
       "      <td>None</td>\n",
       "      <td>763346</td>\n",
       "      <td>2988783</td>\n",
       "      <td>254742</td>\n",
       "      <td>24</td>\n",
       "      <td>LEH</td>\n",
       "      <td>Czech Republic</td>\n",
       "      <td>Lehečka, Jiří</td>\n",
       "    </tr>\n",
       "  </tbody>\n",
       "</table>\n",
       "</div>"
      ],
      "text/plain": [
       "   match_id        name          slug gender  user_count  \\\n",
       "0  12260075  Lehečka J.  lehecka-jiri      M        6858   \n",
       "\n",
       "                  residence               birthplace  height  weight  \\\n",
       "0  Knezmost, Czech Republic  Mlada Boleslav, Czechia    1.85      80   \n",
       "\n",
       "          plays turned_pro  current_prize  total_prize  player_id  \\\n",
       "0  right-handed       None         763346      2988783     254742   \n",
       "\n",
       "   current_rank name_code         country      full_name  \n",
       "0            24       LEH  Czech Republic  Lehečka, Jiří  "
      ]
     },
     "execution_count": 16,
     "metadata": {},
     "output_type": "execute_result"
    }
   ],
   "source": [
    "pd.read_parquet('away_team_12260075.parquet', engine='pyarrow')"
   ]
  },
  {
   "cell_type": "code",
   "execution_count": 38,
   "metadata": {},
   "outputs": [
    {
     "data": {
      "text/html": [
       "<div>\n",
       "<style scoped>\n",
       "    .dataframe tbody tr th:only-of-type {\n",
       "        vertical-align: middle;\n",
       "    }\n",
       "\n",
       "    .dataframe tbody tr th {\n",
       "        vertical-align: top;\n",
       "    }\n",
       "\n",
       "    .dataframe thead th {\n",
       "        text-align: right;\n",
       "    }\n",
       "</style>\n",
       "<table border=\"1\" class=\"dataframe\">\n",
       "  <thead>\n",
       "    <tr style=\"text-align: right;\">\n",
       "      <th></th>\n",
       "      <th>match_id</th>\n",
       "      <th>name</th>\n",
       "      <th>slug</th>\n",
       "      <th>gender</th>\n",
       "      <th>user_count</th>\n",
       "      <th>residence</th>\n",
       "      <th>birthplace</th>\n",
       "      <th>height</th>\n",
       "      <th>weight</th>\n",
       "      <th>plays</th>\n",
       "      <th>turned_pro</th>\n",
       "      <th>current_prize</th>\n",
       "      <th>total_prize</th>\n",
       "      <th>player_id</th>\n",
       "      <th>current_rank</th>\n",
       "      <th>name_code</th>\n",
       "      <th>country</th>\n",
       "      <th>full_name</th>\n",
       "    </tr>\n",
       "  </thead>\n",
       "  <tbody>\n",
       "    <tr>\n",
       "      <th>0</th>\n",
       "      <td>12260075</td>\n",
       "      <td>Lehečka J.</td>\n",
       "      <td>lehecka-jiri</td>\n",
       "      <td>M</td>\n",
       "      <td>6858</td>\n",
       "      <td>Knezmost, Czech Republic</td>\n",
       "      <td>Mlada Boleslav, Czechia</td>\n",
       "      <td>1.85</td>\n",
       "      <td>80</td>\n",
       "      <td>right-handed</td>\n",
       "      <td>None</td>\n",
       "      <td>763346</td>\n",
       "      <td>2988783</td>\n",
       "      <td>254742</td>\n",
       "      <td>24</td>\n",
       "      <td>LEH</td>\n",
       "      <td>Czech Republic</td>\n",
       "      <td>Lehečka, Jiří</td>\n",
       "    </tr>\n",
       "  </tbody>\n",
       "</table>\n",
       "</div>"
      ],
      "text/plain": [
       "   match_id        name          slug gender  user_count  \\\n",
       "0  12260075  Lehečka J.  lehecka-jiri      M        6858   \n",
       "\n",
       "                  residence               birthplace  height  weight  \\\n",
       "0  Knezmost, Czech Republic  Mlada Boleslav, Czechia    1.85      80   \n",
       "\n",
       "          plays turned_pro  current_prize  total_prize  player_id  \\\n",
       "0  right-handed       None         763346      2988783     254742   \n",
       "\n",
       "   current_rank name_code         country      full_name  \n",
       "0            24       LEH  Czech Republic  Lehečka, Jiří  "
      ]
     },
     "execution_count": 38,
     "metadata": {},
     "output_type": "execute_result"
    }
   ],
   "source": [
    "import zipfile\n",
    "a = 20240501\n",
    "with zipfile.ZipFile(f'{a}.zip', 'r') as zip_ref:\n",
    "    zip_ref.extractall()\n",
    "pd.read_parquet('data/raw/raw_match_parquet/away_team_12260075.parquet', engine='pyarrow')"
   ]
  }
 ],
 "metadata": {
  "kernelspec": {
   "display_name": "practice",
   "language": "python",
   "name": "python3"
  },
  "language_info": {
   "codemirror_mode": {
    "name": "ipython",
    "version": 3
   },
   "file_extension": ".py",
   "mimetype": "text/x-python",
   "name": "python",
   "nbconvert_exporter": "python",
   "pygments_lexer": "ipython3",
   "version": "3.12.3"
  }
 },
 "nbformat": 4,
 "nbformat_minor": 2
}
